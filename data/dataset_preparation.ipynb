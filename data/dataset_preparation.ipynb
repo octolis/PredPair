{
 "cells": [
  {
   "cell_type": "markdown",
   "metadata": {},
   "source": [
    "### This notebook contains pieces of code used to parse Rfam seed alighnments and create a dataset for further use."
   ]
  },
  {
   "cell_type": "code",
   "execution_count": 1,
   "metadata": {},
   "outputs": [],
   "source": [
    "from Bio import AlignIO\n",
    "\n",
    "alns = AlignIO.parse(\"Rfam.seed\", \"stockholm\")\n",
    "alns = list(alns)"
   ]
  },
  {
   "cell_type": "code",
   "execution_count": 4,
   "metadata": {},
   "outputs": [],
   "source": [
    "data = []\n",
    "\n",
    "with open(\"Rfam.seed\") as f:\n",
    "    d = []\n",
    "    for line in f:\n",
    "        if \"#=GF AC\" in line:\n",
    "            s = line.strip().split()\n",
    "            ids = s[2]\n",
    "            d.append(ids)\n",
    "            \n",
    "        if \"#=GF CL\" in line:\n",
    "            s = line.strip().split()\n",
    "            cl = s[2]\n",
    "            d.append(cl)\n",
    "            \n",
    "        if \"#=GC SS_cons\" in line:\n",
    "            s = line.strip().split()\n",
    "            ss = s[2]\n",
    "            d.append(ss)\n",
    "        \n",
    "        if \"# STOCKHOLM 1.0\" in line:\n",
    "            if len(d) > 0:\n",
    "                data.append(d)\n",
    "                d = []\n",
    "\n",
    "    if len(d) > 0:\n",
    "        data.append(d)"
   ]
  },
  {
   "cell_type": "code",
   "execution_count": 6,
   "metadata": {},
   "outputs": [
    {
     "name": "stdout",
     "output_type": "stream",
     "text": [
      "1199 RF01264\n",
      "1206 RF01271\n"
     ]
    },
    {
     "data": {
      "text/plain": [
       "{2: 2661, 3: 353, 4: 2}"
      ]
     },
     "execution_count": 6,
     "metadata": {},
     "output_type": "execute_result"
    }
   ],
   "source": [
    "lens = {}\n",
    "for i, d in enumerate(data):\n",
    "    l = len(d)\n",
    "    lens[l] = lens.get(l, 0) + 1\n",
    "    if l == 4:\n",
    "        print(i, d[0])\n",
    "lens"
   ]
  },
  {
   "cell_type": "code",
   "execution_count": 7,
   "metadata": {},
   "outputs": [],
   "source": [
    "bad_indexes = set([1199, 1206])\n",
    "\n",
    "alns_good = [alns[i] for i in range(len(alns)) if i not in bad_indexes]\n",
    "data_good = [data[i] for i in range(len(data)) if i not in bad_indexes]"
   ]
  },
  {
   "cell_type": "code",
   "execution_count": 8,
   "metadata": {},
   "outputs": [
    {
     "data": {
      "text/plain": [
       "(3014, 3014)"
      ]
     },
     "execution_count": 8,
     "metadata": {},
     "output_type": "execute_result"
    }
   ],
   "source": [
    "len(alns_good), len(data_good)"
   ]
  },
  {
   "cell_type": "markdown",
   "metadata": {},
   "source": [
    "Filtering the data to leave only families with RNAs structured to a certain level."
   ]
  },
  {
   "cell_type": "code",
   "execution_count": 9,
   "metadata": {},
   "outputs": [],
   "source": [
    "import string\n",
    "\n",
    "pairing_symbols = \"<>()[]{}\" + string.ascii_letters\n",
    "\n",
    "def count_paired_fraction(ss):\n",
    "    count = sum([1 for l in ss if l in pairing_symbols])\n",
    "    return count/len(ss)\n",
    "\n",
    "def calc_fraction_distribution():\n",
    "    frs = []\n",
    "    for i in range(len(data_good)):\n",
    "        fr = count_paired_fraction(data_good[i][-1])\n",
    "        frs.append(fr)\n",
    "    return frs\n",
    "\n",
    "def filter_by_fr(threshold):\n",
    "    alns_filtered, data_filtered = [], []\n",
    "    for i in range(len(data_good)):\n",
    "        fr = count_paired_fraction(data_good[i][-1])\n",
    "        if fr >= threshold:\n",
    "            alns_filtered.append(alns_good[i])\n",
    "            data_filtered.append(data_good[i])\n",
    "    print(len(alns_filtered))\n",
    "    return alns_filtered, data_filtered"
   ]
  },
  {
   "cell_type": "code",
   "execution_count": 10,
   "metadata": {},
   "outputs": [
    {
     "data": {
      "image/png": "[encoded data removed]",
      "text/plain": [
       "<Figure size 432x288 with 1 Axes>"
      ]
     },
     "metadata": {
      "needs_background": "light"
     },
     "output_type": "display_data"
    }
   ],
   "source": [
    "import matplotlib.pyplot as plt\n",
    "%matplotlib inline\n",
    "\n",
    "frs = calc_fraction_distribution()\n",
    "plt.hist(frs, bins=20)\n",
    "plt.show()"
   ]
  },
  {
   "cell_type": "code",
   "execution_count": 11,
   "metadata": {},
   "outputs": [
    {
     "name": "stdout",
     "output_type": "stream",
     "text": [
      "2310\n"
     ]
    }
   ],
   "source": [
    "alns_filtered, data_filtered = filter_by_fr(0.2)"
   ]
  },
  {
   "cell_type": "markdown",
   "metadata": {},
   "source": [
    "Filtering the data by clan"
   ]
  },
  {
   "cell_type": "code",
   "execution_count": 12,
   "metadata": {},
   "outputs": [
    {
     "name": "stdout",
     "output_type": "stream",
     "text": [
      "2163\n"
     ]
    }
   ],
   "source": [
    "def filter_by_clan():\n",
    "    data_filtered_new, alns_filtered_new = [], [] \n",
    "    clans_used = set()\n",
    "    for i in range(len(data_filtered)):\n",
    "        d = data_filtered[i]\n",
    "        if len(d) == 3:\n",
    "            if not d[1] in clans_used:\n",
    "                clans_used.add(d[1])\n",
    "                data_filtered_new.append(data_filtered[i])\n",
    "                alns_filtered_new.append(alns_filtered[i])\n",
    "        else:\n",
    "            data_filtered_new.append(data_filtered[i])\n",
    "            alns_filtered_new.append(alns_filtered[i]) \n",
    "    print(len(data_filtered_new))\n",
    "    return data_filtered_new, alns_filtered_new\n",
    "\n",
    "data_filtered, alns_filtered = filter_by_clan()"
   ]
  },
  {
   "cell_type": "markdown",
   "metadata": {},
   "source": [
    "Selecting all sequences in each family, cleaning them from gaps and matching them to their consensus structure."
   ]
  },
  {
   "cell_type": "code",
   "execution_count": 13,
   "metadata": {},
   "outputs": [],
   "source": [
    "import random\n",
    "\n",
    "def delete_gaps(seq, ss):\n",
    "    assert len(seq) == len(ss)\n",
    "    seq_new, ss_new = \"\", \"\"\n",
    "    for i in range(len(seq)):\n",
    "        if seq[i] == \"-\":\n",
    "            if ss[i] in pairing_symbols:\n",
    "                #print(\"aaa!\", seq, ss)\n",
    "                return None, None\n",
    "        else:\n",
    "            seq_new += seq[i]\n",
    "            ss_new += ss[i]\n",
    "    return seq_new, ss_new\n",
    "                \n",
    "def gen_pre_dataset():\n",
    "    seq_struc = []\n",
    "    for i in range(len(alns_filtered)):\n",
    "        aln = alns_filtered[i]\n",
    "        d = data_filtered[i]\n",
    "        records = [record.seq for record in aln]\n",
    "        for rec in records:\n",
    "            seq = str(rec)\n",
    "            ss = d[-1]\n",
    "            seq_new, ss_new = delete_gaps(seq, ss)\n",
    "            if seq_new:\n",
    "                seq_struc.append([d[0], seq_new, ss_new])\n",
    "    return seq_struc"
   ]
  },
  {
   "cell_type": "code",
   "execution_count": 14,
   "metadata": {},
   "outputs": [],
   "source": [
    "ds = gen_pre_dataset()\n",
    "while len(ds) < 1830:\n",
    "    ds = gen_pre_dataset()"
   ]
  },
  {
   "cell_type": "code",
   "execution_count": 15,
   "metadata": {},
   "outputs": [
    {
     "data": {
      "text/plain": [
       "33845"
      ]
     },
     "execution_count": 15,
     "metadata": {},
     "output_type": "execute_result"
    }
   ],
   "source": [
    "len(ds)"
   ]
  },
  {
   "cell_type": "markdown",
   "metadata": {},
   "source": [
    "Selecting all pairs in each sequence"
   ]
  },
  {
   "cell_type": "code",
   "execution_count": 18,
   "metadata": {},
   "outputs": [],
   "source": [
    "import random\n",
    "\n",
    "open_symbols = \"<([{\"\n",
    "close_symbols = \">)]}\"\n",
    "pk_open = string.ascii_uppercase\n",
    "pk_close = string.ascii_lowercase\n",
    "\n",
    "paired = {}\n",
    "for i in range(len(close_symbols)):\n",
    "    paired[close_symbols[i]] = open_symbols[i]\n",
    "for i in range(len(pk_close)):\n",
    "    paired[pk_close[i]] = pk_open[i]\n",
    "\n",
    "def gen_masked_pairs_number():\n",
    "    i = 0\n",
    "    while random.random() <= 0.7:\n",
    "        i += 1\n",
    "    return i\n",
    "\n",
    "def find_all_pairs(ss):\n",
    "    pairs = []\n",
    "    l2cos = {}\n",
    "    for i, l in enumerate(ss):\n",
    "        if l in open_symbols or l in pk_open:\n",
    "            if not l in l2cos:\n",
    "                l2cos[l] = []\n",
    "            l2cos[l].append(i)\n",
    "        if l in paired:\n",
    "            j = l2cos[paired[l]].pop()\n",
    "            pairs.append([j, i])\n",
    "    return pairs\n",
    "\n",
    "def mask_pairs(ss, i, all_pairs):\n",
    "    mask = [0 for _ in range(len(ss))]\n",
    "    ans = [0 for _ in range(len(ss))]\n",
    "    cur_pair = all_pairs[i]\n",
    "    p = random.random()\n",
    "    if p < 0.5:\n",
    "        mask[cur_pair[0]] = 1\n",
    "        ans[cur_pair[1]] = 1\n",
    "    else:\n",
    "        mask[cur_pair[1]] = 1\n",
    "        ans[cur_pair[0]] = 1\n",
    "    \n",
    "    return mask, ans"
   ]
  },
  {
   "cell_type": "code",
   "execution_count": 19,
   "metadata": {},
   "outputs": [],
   "source": [
    "def add_masks(ar):\n",
    "    new_ar = []\n",
    "    for d in ar:\n",
    "        rfam_id, seq, ss = d\n",
    "        all_pairs = find_all_pairs(ss)\n",
    "        pair_count = len(all_pairs)\n",
    "        for i in range(pair_count):\n",
    "            mask, ans = mask_pairs(ss, i, all_pairs)\n",
    "            new_ar.append([rfam_id, seq, ss, mask, ans])\n",
    "    return new_ar\n",
    "\n",
    "masked_input = add_masks(ds)"
   ]
  },
  {
   "cell_type": "code",
   "execution_count": 20,
   "metadata": {},
   "outputs": [
    {
     "data": {
      "text/plain": [
       "857307"
      ]
     },
     "execution_count": 20,
     "metadata": {},
     "output_type": "execute_result"
    }
   ],
   "source": [
    "len(masked_input)"
   ]
  },
  {
   "cell_type": "markdown",
   "metadata": {},
   "source": [
    "Writing the data in a convinient format"
   ]
  },
  {
   "cell_type": "code",
   "execution_count": 22,
   "metadata": {},
   "outputs": [],
   "source": [
    "with open(\"predpair_dataset.tsv\", \"w\") as w:\n",
    "    w.write(\"\\t\".join([\"sequence\", \"mask\", \"ans\", \"id\", \"ss\"]) + \"\\n\")\n",
    "    for s in masked_input:\n",
    "        seq = s[1]\n",
    "        mask = \"\".join(list(map(str, s[3])))\n",
    "        answer = \"\".join(list(map(str, s[4]))) \n",
    "        rid = s[0]\n",
    "        ss = s[2]   \n",
    "        line = \"\\t\".join([seq, mask, answer, rid, ss]) + \"\\n\"\n",
    "        w.write(line)"
   ]
  }
 ],
 "metadata": {
  "kernelspec": {
   "display_name": "Python 3",
   "language": "python",
   "name": "python3"
  },
  "language_info": {
   "codemirror_mode": {
    "name": "ipython",
    "version": 3
   },
   "file_extension": ".py",
   "mimetype": "text/x-python",
   "name": "python",
   "nbconvert_exporter": "python",
   "pygments_lexer": "ipython3",
   "version": "3.6.10"
  }
 },
 "nbformat": 4,
 "nbformat_minor": 2
}
