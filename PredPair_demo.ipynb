{
 "cells": [
  {
   "cell_type": "markdown",
   "metadata": {},
   "source": [
    "### Building the model and loading its weights"
   ]
  },
  {
   "cell_type": "code",
   "execution_count": null,
   "metadata": {},
   "outputs": [],
   "source": [
    "from predpairutils import *\n",
    "\n",
    "NN_weghts = \"./data/predpair_weights.h5\""
   ]
  },
  {
   "cell_type": "code",
   "execution_count": null,
   "metadata": {},
   "outputs": [],
   "source": [
    "predpair = predpair()\n",
    "predpair.load_weights(NN_weghts)"
   ]
  },
  {
   "cell_type": "markdown",
   "metadata": {
    "id": "0SRqmIZASXqL"
   },
   "source": [
    "### Please provide a sequence and a known structure for it (optional)\n"
   ]
  },
  {
   "cell_type": "code",
   "execution_count": null,
   "metadata": {
    "id": "CLXNBLiASlAc"
   },
   "outputs": [],
   "source": [
    "seq = \"UCCUUGUAGACGGAUUGAACGGCAACACAUAGCGAGAAUGUGACAAGGA\" #https://rnacentral.org/rna/URS0000D6870F/469585\n",
    "ss = \"(((((((...((.......))....(((((.......))))))))))))\" "
   ]
  },
  {
   "cell_type": "code",
   "execution_count": null,
   "metadata": {
    "colab": {
     "base_uri": "https://localhost:8080/",
     "height": 692
    },
    "id": "VOTpE7lDIjWY",
    "outputId": "feae4e58-2e75-4312-891e-40bf0a1a425a"
   },
   "outputs": [],
   "source": [
    "ans, grad = get_ans_grad(seq, predpair) # The answer of the model and the gradients of the answer given the inputs.\n",
    "\n",
    "a = symmetrize_min(ans) # Symmetrisation of the answer. Please note than sum of the row is not 1 from now.\n",
    "g = symmetrize_min(get_importances(grad)) # Symmetrisation of the gradient-based importance measure\n",
    "\n",
    "true_pairs = find_all_pairs(ss) \n",
    "plot = get_plot(a, g, seq, true_pairs) # The left graph is the symmetrised net answer, the right one is for importancies."
   ]
  },
  {
   "cell_type": "code",
   "execution_count": null,
   "metadata": {},
   "outputs": [],
   "source": [
    "#without known structure\n",
    "\n",
    "ans, grad = get_ans_grad(seq, predpair) # The answer of the model and the gradients of the answer given the inputs.\n",
    "\n",
    "a = symmetrize_min(ans) # Symmetrisation of the answer. Please note than sum of the row is not 1 from now.\n",
    "g = symmetrize_min(get_importances(grad)) # Symmetrisation of the gradient-based importance measure\n",
    "\n",
    "true_pairs = []\n",
    "plot = get_plot(a, g, seq, true_pairs) # The left graph is the symmetrised net answer, the right one is for importancies."
   ]
  }
 ],
 "metadata": {
  "colab": {
   "collapsed_sections": [],
   "name": "DL_RNA_demo",
   "provenance": []
  },
  "kernelspec": {
   "display_name": "Python 3",
   "language": "python",
   "name": "python3"
  },
  "language_info": {
   "codemirror_mode": {
    "name": "ipython",
    "version": 3
   },
   "file_extension": ".py",
   "mimetype": "text/x-python",
   "name": "python",
   "nbconvert_exporter": "python",
   "pygments_lexer": "ipython3",
   "version": "3.6.10"
  }
 },
 "nbformat": 4,
 "nbformat_minor": 1
}
