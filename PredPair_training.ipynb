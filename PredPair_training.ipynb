{
 "cells": [
  {
   "cell_type": "markdown",
   "metadata": {},
   "source": [
    "### Loading the dataset and the model"
   ]
  },
  {
   "cell_type": "code",
   "execution_count": null,
   "metadata": {
    "colab": {},
    "colab_type": "code",
    "id": "jIyEHq8HsshX"
   },
   "outputs": [],
   "source": [
    "from predpairutils import *\n",
    "\n",
    "dataset_file = \"./data/predpair_dataset.tsv\"\n",
    "train_file, val_file, test_file = \"./data/train_rfs.pk\", \"./data/val_rfs.pk\", \"./data/test_rfs.pk\""
   ]
  },
  {
   "cell_type": "code",
   "execution_count": null,
   "metadata": {
    "colab": {},
    "colab_type": "code",
    "id": "7tFHg0BkssjX"
   },
   "outputs": [],
   "source": [
    "# defining a generator for working with sequences of different lengths\n",
    "\n",
    "class TrainGenerator(tf.keras.utils.Sequence):\n",
    "    def __init__(self, x, y):\n",
    "        self.x = x\n",
    "        self.y = y\n",
    "        self.n = 0\n",
    "        self.max = self.__len__()\n",
    "\n",
    "    def __len__(self):\n",
    "        return len(self.x)\n",
    "\n",
    "    def __getitem__(self, index):\n",
    "        k = len(self.y[index])\n",
    "        if k > 32:\n",
    "            x_new, y_new = [], []\n",
    "            for i in range(k):\n",
    "                r = random.random()\n",
    "                if r <= 32/k:\n",
    "                    x_new.append(self.x[index][i])\n",
    "                    y_new.append(self.y[index][i])\n",
    "            y = np.array(y_new)\n",
    "            return np.array(x_new), y.reshape(y.shape[0], 1, y.shape[1])\n",
    "        y_tmp = np.array(self.y[index])\n",
    "        return np.array(self.x[index]), y_tmp.reshape(y_tmp.shape[0], 1, y_tmp.shape[1])"
   ]
  },
  {
   "cell_type": "code",
   "execution_count": null,
   "metadata": {
    "colab": {
     "base_uri": "https://localhost:8080/",
     "height": 34
    },
    "colab_type": "code",
    "id": "H7hgYvwIsshx",
    "outputId": "209c93ea-c42c-4aac-ed14-1a584d6cfb97"
   },
   "outputs": [],
   "source": [
    "#loading and parsing the dataset of RNA sequences\n",
    "\n",
    "rf_id2seq2data, seq2rf_id = parse_data(dataset_file)\n",
    "train_q, train_ans, val_q, val_ans, test_q, test_ans = prepare_data(rf_id2seq2data, train_file, val_file, test_file)"
   ]
  },
  {
   "cell_type": "code",
   "execution_count": null,
   "metadata": {},
   "outputs": [],
   "source": [
    "#loading the model\n",
    "model = predpair()"
   ]
  },
  {
   "cell_type": "code",
   "execution_count": null,
   "metadata": {},
   "outputs": [],
   "source": [
    "del rf_id2seq2data"
   ]
  },
  {
   "cell_type": "markdown",
   "metadata": {},
   "source": [
    "### Training the model"
   ]
  },
  {
   "cell_type": "code",
   "execution_count": null,
   "metadata": {
    "colab": {
     "base_uri": "https://localhost:8080/",
     "height": 254
    },
    "colab_type": "code",
    "id": "mDqd-CNZssjy",
    "outputId": "154d401a-8a8b-480f-ad1a-7f87637e99bd"
   },
   "outputs": [],
   "source": [
    "import datetime\n",
    "\n",
    "for i in range(10):\n",
    "    s = str(datetime.datetime.now())\n",
    "    ep_now = 1\n",
    "    print(s)\n",
    "    sn = len(train_q)\n",
    "    vn = len(val_q)\n",
    "\n",
    "    history = model.fit(TrainGenerator(train_q[:sn], train_ans[:sn]), epochs=ep_now, steps_per_epoch=sn, validation_data=TrainGenerator(val_q[:vn], val_ans[:vn]), validation_steps=vn) \n",
    "\n",
    "    fname = 'predpair_weights_{0}.h5'.format(s, ep_now)\n",
    "    model.save_weights(fname)\n",
    "    print(\"saved weights\")"
   ]
  },
  {
   "cell_type": "markdown",
   "metadata": {},
   "source": [
    "### Evaluation"
   ]
  },
  {
   "cell_type": "code",
   "execution_count": null,
   "metadata": {
    "colab": {
     "base_uri": "https://localhost:8080/",
     "height": 52
    },
    "colab_type": "code",
    "id": "UM0gNskfSIdx",
    "outputId": "a9877005-b52e-411c-a898-fcb89d220e60"
   },
   "outputs": [],
   "source": [
    "model.evaluate(TrainGenerator(test_q, test_ans))"
   ]
  }
 ],
 "metadata": {
  "accelerator": "GPU",
  "colab": {
   "collapsed_sections": [],
   "name": "5.5.20 - pair_NN.ipynb",
   "provenance": []
  },
  "kernelspec": {
   "display_name": "Python 3",
   "language": "python",
   "name": "python3"
  },
  "language_info": {
   "codemirror_mode": {
    "name": "ipython",
    "version": 3
   },
   "file_extension": ".py",
   "mimetype": "text/x-python",
   "name": "python",
   "nbconvert_exporter": "python",
   "pygments_lexer": "ipython3",
   "version": "3.6.10"
  }
 },
 "nbformat": 4,
 "nbformat_minor": 1
}
