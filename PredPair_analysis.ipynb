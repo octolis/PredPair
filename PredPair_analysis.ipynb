{
 "cells": [
  {
   "cell_type": "markdown",
   "metadata": {},
   "source": [
    "### Data loading and preparation"
   ]
  },
  {
   "cell_type": "code",
   "execution_count": null,
   "metadata": {},
   "outputs": [],
   "source": [
    "from predpairutils import *"
   ]
  },
  {
   "cell_type": "code",
   "execution_count": null,
   "metadata": {},
   "outputs": [],
   "source": [
    "dataset_file = \"./data/predpair_dataset.tsv\"\n",
    "train_file, val_file, test_file = \"./data/train_rfs.pk\", \"./data/val_rfs.pk\", \"./data/test_rfs.pk\"\n",
    "NN_weghts = \"./data/predpair_weights.h5\""
   ]
  },
  {
   "cell_type": "code",
   "execution_count": null,
   "metadata": {},
   "outputs": [],
   "source": [
    "rf_id2seq2data, seq2rf_id = parse_data(dataset_file)\n",
    "train_q, train_ans, val_q, val_ans, test_q, test_ans = prepare_data(rf_id2seq2data, train_file, val_file, test_file)"
   ]
  },
  {
   "cell_type": "markdown",
   "metadata": {},
   "source": [
    "### Trained model loading"
   ]
  },
  {
   "cell_type": "code",
   "execution_count": null,
   "metadata": {},
   "outputs": [],
   "source": [
    "predpair = predpair()\n",
    "predpair.load_weights(NN_weghts)"
   ]
  },
  {
   "cell_type": "markdown",
   "metadata": {},
   "source": [
    "### Calculation of the fraction of reciprocal pairs and the fraction of reciprocal among paired and unpaired nucleotides"
   ]
  },
  {
   "cell_type": "markdown",
   "metadata": {},
   "source": [
    "To calculate from the data uncomment and run the cell below"
   ]
  },
  {
   "cell_type": "code",
   "execution_count": null,
   "metadata": {},
   "outputs": [],
   "source": [
    "# paired_good_frs, unpaired_good_frs = calculate_freqs(test_q, seq2rf_id, rf_id2seq2data, predpair)"
   ]
  },
  {
   "cell_type": "markdown",
   "metadata": {},
   "source": [
    "To load precalculated frequencies uncomment and run the cell below"
   ]
  },
  {
   "cell_type": "code",
   "execution_count": null,
   "metadata": {},
   "outputs": [],
   "source": [
    "# PAIRED_FILE = './data_for_analysis/paired_good_frs.json'\n",
    "# UNPAIRED_FILE = './data_for_analysis/unpaired_good_frs.json'\n",
    "\n",
    "# with open(PAIRED_FILE, 'r') as f:\n",
    "#     paired_good_frs = json.load(f)\n",
    "\n",
    "# with open(UNPAIRED_FILE, 'r') as f:\n",
    "#     unpaired_good_frs = json.load(f)"
   ]
  },
  {
   "cell_type": "code",
   "execution_count": null,
   "metadata": {},
   "outputs": [],
   "source": [
    "plot_reciprocity(paired_good_frs, unpaired_good_frs)"
   ]
  },
  {
   "cell_type": "markdown",
   "metadata": {},
   "source": [
    "### Calculation of Precision/Recall curves for the network and RNAplfold"
   ]
  },
  {
   "cell_type": "markdown",
   "metadata": {},
   "source": [
    "Calculations for RNAplfold data"
   ]
  },
  {
   "cell_type": "code",
   "execution_count": null,
   "metadata": {},
   "outputs": [],
   "source": [
    "SEQPATH = \"test_seqs\"\n",
    "PLFOLD_PATH = \"vienna_test_rez\"\n",
    "CONFUSION_MATRIX_PARAMETER = 1 - 0.00001\n",
    "\n",
    "k2data = gen_data_for_pres_recall(rf_id2seq2data, SEQPATH)"
   ]
  },
  {
   "cell_type": "code",
   "execution_count": null,
   "metadata": {},
   "outputs": [],
   "source": [
    "k2pairs_predicted = get_k2pairs_pred(PLFOLD_PATH)"
   ]
  },
  {
   "cell_type": "code",
   "execution_count": null,
   "metadata": {},
   "outputs": [],
   "source": [
    "k2best_pairs_predicted, k2rfam_pairs = get_plfold_pairs(k2pairs_predicted, k2data)"
   ]
  },
  {
   "cell_type": "code",
   "execution_count": null,
   "metadata": {},
   "outputs": [],
   "source": [
    "calc_confusion_matrix(k2best_pairs_predicted, k2rfam_pairs, CONFUSION_MATRIX_PARAMETER)"
   ]
  },
  {
   "cell_type": "code",
   "execution_count": null,
   "metadata": {},
   "outputs": [],
   "source": [
    "pres, recs = calc_precision_recall_tracks(k2best_pairs_predicted, k2rfam_pairs)        "
   ]
  },
  {
   "cell_type": "markdown",
   "metadata": {},
   "source": [
    "Calculations for PredPair"
   ]
  },
  {
   "cell_type": "markdown",
   "metadata": {},
   "source": [
    "To calculate from the data uncomment and run the cell below"
   ]
  },
  {
   "cell_type": "code",
   "execution_count": null,
   "metadata": {},
   "outputs": [],
   "source": [
    "# k2net_best_pairs_predicted = get_net_pairs(k2rfam_pairs, k2data, predpair)"
   ]
  },
  {
   "cell_type": "markdown",
   "metadata": {},
   "source": [
    "To load precalculated predictions of PredPair uncomment and run the cell below"
   ]
  },
  {
   "cell_type": "code",
   "execution_count": null,
   "metadata": {},
   "outputs": [],
   "source": [
    "# k2net_best_pairs_predicted = pk.load(open(\"./data_for_analysis/locally_computed_net_pairs.pk\", 'rb'))"
   ]
  },
  {
   "cell_type": "code",
   "execution_count": null,
   "metadata": {},
   "outputs": [],
   "source": [
    "pres_net, recs_net = calc_precision_recall_tracks(k2net_best_pairs_predicted, k2rfam_pairs)"
   ]
  },
  {
   "cell_type": "code",
   "execution_count": null,
   "metadata": {},
   "outputs": [],
   "source": [
    "plot_prec_recall(recs, pres, recs_net, pres_net)"
   ]
  },
  {
   "cell_type": "markdown",
   "metadata": {},
   "source": [
    "### Comparison of PredPair predictions with DMS-Seq data"
   ]
  },
  {
   "cell_type": "code",
   "execution_count": null,
   "metadata": {},
   "outputs": [],
   "source": [
    "GENOME_FILE = \"./data_for_analysis/NC_000913.2.gb\"\n",
    "GENOME_LENGTH = 4639675\n",
    "\n",
    "DMS_for = \"./data_for_analysis/GSM2055260_DMS_37_WT_for.wig\"\n",
    "DMS_rev = \"./data_for_analysis/GSM2055260_DMS_37_WT_rev.wig\""
   ]
  },
  {
   "cell_type": "code",
   "execution_count": null,
   "metadata": {},
   "outputs": [],
   "source": [
    "dms_for = get_struc_data(DMS_for, GENOME_LENGTH)\n",
    "dms_rev = get_struc_data(DMS_rev, GENOME_LENGTH)\n",
    "\n",
    "rand_qs, rand_ans = gen_rand_dms()"
   ]
  },
  {
   "cell_type": "code",
   "execution_count": null,
   "metadata": {},
   "outputs": [],
   "source": [
    "record = SeqIO.read(GENOME_FILE, \"genbank\")\n",
    "good_genes = get_dms_genes(record, dms_for, dms_rev)"
   ]
  },
  {
   "cell_type": "markdown",
   "metadata": {},
   "source": [
    "To calculate from the data uncomment and run the cell below"
   ]
  },
  {
   "cell_type": "code",
   "execution_count": null,
   "metadata": {},
   "outputs": [],
   "source": [
    "# qs, rand_qs = get_dms_quantiles(good_genes, dms_for, dms_rev, record, predpair)"
   ]
  },
  {
   "cell_type": "markdown",
   "metadata": {},
   "source": [
    "To load precalculated DMS quantiles, uncomment and run the cell below"
   ]
  },
  {
   "cell_type": "code",
   "execution_count": null,
   "metadata": {},
   "outputs": [],
   "source": [
    "# with open('./data_for_analysis/qs.json', 'r') as f:\n",
    "#     qs = json.load(f)\n",
    "\n",
    "# with open('./data_for_analysis/rand_qs.json', 'r') as f:\n",
    "#     rand_qs = json.load(f)"
   ]
  },
  {
   "cell_type": "code",
   "execution_count": null,
   "metadata": {},
   "outputs": [],
   "source": [
    "plot_dms(qs, rand_qs)"
   ]
  },
  {
   "cell_type": "markdown",
   "metadata": {},
   "source": [
    "### Analysis of DUF2693-FD motif"
   ]
  },
  {
   "cell_type": "code",
   "execution_count": null,
   "metadata": {},
   "outputs": [],
   "source": [
    "duf2693fd_seq = \"UCCUUGUAGACGGAUUGAACGGCAACACAUAGCGAGAAUGUGACAAGGA\" #https://rnacentral.org/rna/URS0000D6870F/469585\n",
    "duf2693fd_ss = \"(((((((...((.......))....(((((.......))))))))))))\" \n",
    "ans, grad = get_ans_grad(duf2693fd_seq, predpair) # The answer of the model and the gradients of the answer given the inputs.\n",
    "\n",
    "a = symmetrize_min(ans) # Symmetrisation of the answer. Please note than sum of the row is not 1 from now.\n",
    "g = symmetrize_min(get_importances(grad)) # Symmetrisation of the gradient-based importance measure\n",
    "\n",
    "true_pairs = find_all_pairs(duf2693fd_ss)\n"
   ]
  },
  {
   "cell_type": "code",
   "execution_count": null,
   "metadata": {},
   "outputs": [],
   "source": [
    "RNA_IMAGE = './data_for_analysis/URS0000D6870F_structure.png'\n",
    "RNA_STRUCTURE = './data_for_analysis/duf2693fd_rnafold.png'\n",
    "\n",
    "plot_duf2693fd(duf2693fd_seq, RNA_IMAGE, RNA_STRUCTURE, a, true_pairs)"
   ]
  },
  {
   "cell_type": "markdown",
   "metadata": {},
   "source": [
    "### Analysis of a psedoknot (Rfam ID RF01105)"
   ]
  },
  {
   "cell_type": "code",
   "execution_count": null,
   "metadata": {},
   "outputs": [],
   "source": [
    "seq_pk = \"AGAGTTATCATACTCTATAAACTATGA\".replace(\"T\", \"U\") #https://rfam.org/family/SBWMV2_UPD-PKl#tabview=tab1, accession L07938.1\n",
    "ss_pk = \"<<<<________>>>>:::::::::::\" #https://rnacentral.org/r2dt?jobid=r2dt-R20220208-114456-0944-64823382-p1m\n",
    "ans_pk, grad_pk = get_ans_grad(seq_pk, predpair) # The answer of the model and the gradients of the answer given the inputs.\n",
    "\n",
    "a_pk = symmetrize_min(ans_pk) # Symmetrisation of the answer. Please note than sum of the row is not 1 from now.\n",
    "g_pk = symmetrize_min(get_importances(grad_pk)) # Symmetrisation of the gradient-based importance measure\n",
    "\n",
    "true_pairs_pk = find_all_pairs(ss_pk)"
   ]
  },
  {
   "cell_type": "code",
   "execution_count": null,
   "metadata": {},
   "outputs": [],
   "source": [
    "PK_IMAGE = './data_for_analysis/RF01105_pseudoknot.png'\n",
    "plot_pk(seq_pk, PK_IMAGE, a_pk, true_pairs_pk)"
   ]
  },
  {
   "cell_type": "markdown",
   "metadata": {},
   "source": [
    "### Example of analysis of feature importance for prediction (Rfam ID RF01690)"
   ]
  },
  {
   "cell_type": "code",
   "execution_count": null,
   "metadata": {},
   "outputs": [],
   "source": [
    "seq_bac = \"ATAAAAGGAACGGCGGCTAAATGCTTAGGCGTCCTGCCTAAACACCGCCGTCATCACATCCTGTAAA\".replace(\"T\", \"U\") #https://rfam.xfam.org/family/RF01690#tabview=tab1\n",
    "ss_bac = \"..........(((((((........(((((.....)))))...)))))))...(((((......)))))\" #https://rnacentral.org/rna/URS000067370E/224308\n",
    "ans_bac, grad_bac = get_ans_grad(seq_bac, predpair) # The answer of the model and the gradients of the answer given the inputs.\n",
    "\n",
    "a_bac = symmetrize_min(ans_bac) # Symmetrisation of the answer. Please note than sum of the row is not 1 from now.\n",
    "g_bac = symmetrize_min(get_importances(grad_bac)) # Symmetrisation of the gradient-based importance measure\n",
    "\n",
    "true_pairs_bac = find_all_pairs(ss_bac)"
   ]
  },
  {
   "cell_type": "code",
   "execution_count": null,
   "metadata": {},
   "outputs": [],
   "source": [
    "f = get_plot(a_bac, g_bac, seq_bac, true_pairs_bac)"
   ]
  },
  {
   "cell_type": "markdown",
   "metadata": {},
   "source": [
    "### Analysis of feature importance for prediction over all data"
   ]
  },
  {
   "cell_type": "markdown",
   "metadata": {},
   "source": [
    "To calculate from the data uncomment and run the cell below"
   ]
  },
  {
   "cell_type": "code",
   "execution_count": null,
   "metadata": {},
   "outputs": [],
   "source": [
    "# at, ar, it, ir = get_pair_stat(predpair, test_q, test_ans)"
   ]
  },
  {
   "cell_type": "markdown",
   "metadata": {},
   "source": [
    "To load precalculated values of importances, uncomment and run the cell below"
   ]
  },
  {
   "cell_type": "code",
   "execution_count": null,
   "metadata": {},
   "outputs": [],
   "source": [
    "# at_text = codecs.open(\"./data_for_analysis/at.json\", 'r', encoding='utf-8').read()\n",
    "# at = json.loads(at_text)\n",
    "\n",
    "# ar_text = codecs.open(\"./data_for_analysis/ar.json\", 'r', encoding='utf-8').read()\n",
    "# ar = json.loads(ar_text)\n",
    "\n",
    "# it_text = codecs.open(\"./data_for_analysis/it.json\", 'r', encoding='utf-8').read()\n",
    "# it = json.loads(it_text)\n",
    "\n",
    "# ir_text = codecs.open(\"./data_for_analysis/ir.json\", 'r', encoding='utf-8').read()\n",
    "# ir = json.loads(ir_text)"
   ]
  },
  {
   "cell_type": "code",
   "execution_count": null,
   "metadata": {},
   "outputs": [],
   "source": [
    "print(mannwhitneyu(at, ar))"
   ]
  },
  {
   "cell_type": "code",
   "execution_count": null,
   "metadata": {},
   "outputs": [],
   "source": [
    "it2 = [math.log(x, 10) for x in it if x != 0]\n",
    "ir2 = [math.log(x, 10) for x in ir if x != 0]\n",
    "\n",
    "print(mannwhitneyu(it2, ir2))"
   ]
  },
  {
   "cell_type": "code",
   "execution_count": null,
   "metadata": {},
   "outputs": [],
   "source": [
    "import matplotlib.pyplot as plt\n",
    "\n",
    "plot_importances(at, ar, it2, ir2)"
   ]
  },
  {
   "cell_type": "markdown",
   "metadata": {},
   "source": [
    "### Analysis of frequencies of types of pairs and their relationship with the energy of stacking"
   ]
  },
  {
   "cell_type": "markdown",
   "metadata": {},
   "source": [
    "To calculate the values, uncomment and run the cell below"
   ]
  },
  {
   "cell_type": "markdown",
   "metadata": {},
   "source": [
    "To calculate frequencies of pairs and stacked pairs from sequennces, uncomment ans run the cell below"
   ]
  },
  {
   "cell_type": "code",
   "execution_count": null,
   "metadata": {},
   "outputs": [],
   "source": [
    "# seqpath = \"test_seqs\"\n",
    "# onlyseqs = [f for f in listdir(seqpath) if isfile(join(seqpath, f))]\n",
    "# k2seq = {}\n",
    "\n",
    "# for i in onlyseqs:\n",
    "#     k = int(i.split(\".\")[0])\n",
    "#     with open(join(seqpath, i)) as f:\n",
    "#         f.readline()\n",
    "#         s = f.readline().strip()\n",
    "#         k2seq[k] = s\n",
    "# pair2count, ppair2count = get_lets_pair_stat(k2seq, predpair)"
   ]
  },
  {
   "cell_type": "markdown",
   "metadata": {},
   "source": [
    "To load precalculated values, uncomment and run two cells below"
   ]
  },
  {
   "cell_type": "code",
   "execution_count": null,
   "metadata": {},
   "outputs": [],
   "source": [
    "# pair2count = ''\n",
    "# with open(r'./data_for_analysis/pair2count.txt','r') as f:\n",
    "#     for i in f.readlines():\n",
    "#         pair2count = i #string\n",
    "# pair2count = eval(pair2count) # this is orignal dict with instace dict\n"
   ]
  },
  {
   "cell_type": "code",
   "execution_count": null,
   "metadata": {},
   "outputs": [],
   "source": [
    "# ppair2count_ = ''\n",
    "# with open(r'./data_for_analysis/ppair2count.txt','r') as f:\n",
    "#     for i in f.readlines():\n",
    "#         ppair2count_ = i #string\n",
    "# ppair2count_ = eval(ppair2count_)\n",
    "\n",
    "# ppair2count = {}\n",
    "# for p in ppair2count_:\n",
    "#     ppair2count[(p[0][1] + p[1][0], p[1][1]+p[0][0])] = ppair2count_[p]/sum(ppair2count_.values())"
   ]
  },
  {
   "cell_type": "code",
   "execution_count": null,
   "metadata": {},
   "outputs": [],
   "source": [
    "pairs, energies, counts_of_pairs, counts_of_stacked = get_energy_data(pair2count, ppair2count)"
   ]
  },
  {
   "cell_type": "code",
   "execution_count": null,
   "metadata": {},
   "outputs": [],
   "source": [
    "plot_energy_data(pairs, energies, counts_of_pairs, counts_of_stacked)"
   ]
  },
  {
   "cell_type": "markdown",
   "metadata": {},
   "source": [
    "### t-SNE analysis of embeddings of RNA sequences from different Rfam families"
   ]
  },
  {
   "cell_type": "code",
   "execution_count": null,
   "metadata": {},
   "outputs": [],
   "source": [
    "RFAM_SEED = \"./data/Rfam.seed\"\n",
    "\n",
    "alns_good, data_good = clean_raw_rfam(RFAM_SEED)\n",
    "alns_filtered, data_filtered = filter_by_fr(0.2, data_good, alns_good)\n",
    "data_filtered, alns_filtered = filter_by_clan(alns_filtered, data_filtered)\n",
    "ds = gen_pre_dataset(data_filtered, alns_filtered)"
   ]
  },
  {
   "cell_type": "markdown",
   "metadata": {},
   "source": [
    "To create embeddings from RNA sequences from **ds** using PredPair, uncomment ans run the cell below"
   ]
  },
  {
   "cell_type": "code",
   "execution_count": null,
   "metadata": {},
   "outputs": [],
   "source": [
    "# class2seqs = make_class2seqs(ds)\n",
    "# cl2embs = make_cl2embs(predpair, class2seqs, layer_name='bidirectional_1') #layer name is taken from the cell output of predpair() function "
   ]
  },
  {
   "cell_type": "markdown",
   "metadata": {},
   "source": [
    "To load precalculated embeddings uncomment and run the cell below"
   ]
  },
  {
   "cell_type": "code",
   "execution_count": null,
   "metadata": {},
   "outputs": [],
   "source": [
    "# outfile = './data_for_analysis/cl2embs.npz'\n",
    "# cl2embs = np.load(outfile)\n",
    "\n",
    "# rand_outfile = './data_for_analysis/rand_seqs2embs.npz'\n",
    "# rand_seqs2embs = np.load(rand_outfile)"
   ]
  },
  {
   "cell_type": "code",
   "execution_count": null,
   "metadata": {},
   "outputs": [],
   "source": [
    "tsne = TSNE()\n",
    "\n",
    "x, y = sample_data(cl2embs)\n",
    "x_embedded = tsne.fit_transform(x)\n",
    "\n",
    "x_r, y_r = sample_data(rand_seqs2embs)\n",
    "xr_embedded = tsne.fit_transform(x_r)\n"
   ]
  },
  {
   "cell_type": "markdown",
   "metadata": {},
   "source": [
    "To create embeddings from RNA sequences from **random sequences that can maintain RNA structure** using PredPair, uncomment ans run the cell below"
   ]
  },
  {
   "cell_type": "code",
   "execution_count": null,
   "metadata": {},
   "outputs": [],
   "source": [
    "# RAND_SEQS = './data_for_analysis/random_seqs_by_classes_len_140_di.txt' \n",
    "# rand_seqs2embs = make_rand_seqs2embs(RAND_SEQS, predpair, layer_name='bidirectional_1')"
   ]
  },
  {
   "cell_type": "code",
   "execution_count": null,
   "metadata": {},
   "outputs": [],
   "source": [
    "plot_tsne(y, y_r, x_embedded, xr_embedded)"
   ]
  }
 ],
 "metadata": {
  "kernelspec": {
   "display_name": "Python 3",
   "language": "python",
   "name": "python3"
  },
  "language_info": {
   "codemirror_mode": {
    "name": "ipython",
    "version": 3
   },
   "file_extension": ".py",
   "mimetype": "text/x-python",
   "name": "python",
   "nbconvert_exporter": "python",
   "pygments_lexer": "ipython3",
   "version": "3.6.10"
  }
 },
 "nbformat": 4,
 "nbformat_minor": 4
}
